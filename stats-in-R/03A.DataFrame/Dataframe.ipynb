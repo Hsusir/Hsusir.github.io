{
 "cells": [
  {
   "cell_type": "markdown",
   "metadata": {},
   "source": [
    "# 資料框的操作技巧\n",
    "\n",
    "## 許sir\n",
    "\n",
    "- 不論是探索性資料分析（Exploratory Data Analysis，EDA）、統計分析、機器學習或者溝通呈現之前，有極大比例的時間花費在清理並重組資料\n",
    "- 在 Python 與 R 語言中，大都是以資料框（Data Frame）來處理表格式資料\n",
    "- 二維資料結構，每列代表一個觀測值，每欄代表一個變數，就像是增強了列索引值與欄索引值的矩陣，並容許每一個欄位（變數）具有自己的型別"
   ]
  },
  {
   "cell_type": "markdown",
   "metadata": {},
   "source": [
    "### [PART 1]. 手動建立dataframe\n",
    "\n",
    "手動輸入一個 1995 至 1996 年球季芝加哥公牛隊先發陣容的資料框，這是一個 5 x 2 的資料框，紀錄五個先發球員的背號與姓名。"
   ]
  },
  {
   "cell_type": "code",
   "execution_count": 1,
   "metadata": {
    "collapsed": true
   },
   "outputs": [],
   "source": [
    "numbers <- c(9, 23, 33, 91, 13)\n",
    "players <- c(\"Ron Harper\", \"Michael Jordan\", \"Scottie Pippen\", \"Dennis Rodman\", \"Luc Longley\")\n",
    "df <- data.frame(number = numbers, player = players, stringsAsFactors = FALSE) #資料框預設儲存文字的型別是一種稱為 factor 的型別\n",
    "\n",
    "\n"
   ]
  },
  {
   "cell_type": "code",
   "execution_count": 2,
   "metadata": {},
   "outputs": [
    {
     "data": {
      "text/html": [
       "<ol class=list-inline>\n",
       "\t<li>5</li>\n",
       "\t<li>2</li>\n",
       "</ol>\n"
      ],
      "text/latex": [
       "\\begin{enumerate*}\n",
       "\\item 5\n",
       "\\item 2\n",
       "\\end{enumerate*}\n"
      ],
      "text/markdown": [
       "1. 5\n",
       "2. 2\n",
       "\n",
       "\n"
      ],
      "text/plain": [
       "[1] 5 2"
      ]
     },
     "metadata": {},
     "output_type": "display_data"
    },
    {
     "data": {
      "text/html": [
       "<table>\n",
       "<thead><tr><th scope=col>number</th><th scope=col>player</th></tr></thead>\n",
       "<tbody>\n",
       "\t<tr><td> 9            </td><td>Ron Harper    </td></tr>\n",
       "\t<tr><td>23            </td><td>Michael Jordan</td></tr>\n",
       "\t<tr><td>33            </td><td>Scottie Pippen</td></tr>\n",
       "\t<tr><td>91            </td><td>Dennis Rodman </td></tr>\n",
       "\t<tr><td>13            </td><td>Luc Longley   </td></tr>\n",
       "</tbody>\n",
       "</table>\n"
      ],
      "text/latex": [
       "\\begin{tabular}{r|ll}\n",
       " number & player\\\\\n",
       "\\hline\n",
       "\t  9             & Ron Harper    \\\\\n",
       "\t 23             & Michael Jordan\\\\\n",
       "\t 33             & Scottie Pippen\\\\\n",
       "\t 91             & Dennis Rodman \\\\\n",
       "\t 13             & Luc Longley   \\\\\n",
       "\\end{tabular}\n"
      ],
      "text/markdown": [
       "\n",
       "number | player | \n",
       "|---|---|---|---|---|\n",
       "|  9             | Ron Harper     | \n",
       "| 23             | Michael Jordan | \n",
       "| 33             | Scottie Pippen | \n",
       "| 91             | Dennis Rodman  | \n",
       "| 13             | Luc Longley    | \n",
       "\n",
       "\n"
      ],
      "text/plain": [
       "  number player        \n",
       "1  9     Ron Harper    \n",
       "2 23     Michael Jordan\n",
       "3 33     Scottie Pippen\n",
       "4 91     Dennis Rodman \n",
       "5 13     Luc Longley   "
      ]
     },
     "metadata": {},
     "output_type": "display_data"
    },
    {
     "data": {
      "text/html": [
       "<table>\n",
       "<thead><tr><th scope=col>number</th><th scope=col>player</th></tr></thead>\n",
       "<tbody>\n",
       "\t<tr><td> 9            </td><td>Ron Harper    </td></tr>\n",
       "\t<tr><td>23            </td><td>Michael Jordan</td></tr>\n",
       "\t<tr><td>33            </td><td>Scottie Pippen</td></tr>\n",
       "\t<tr><td>91            </td><td>Dennis Rodman </td></tr>\n",
       "\t<tr><td>13            </td><td>Luc Longley   </td></tr>\n",
       "</tbody>\n",
       "</table>\n"
      ],
      "text/latex": [
       "\\begin{tabular}{r|ll}\n",
       " number & player\\\\\n",
       "\\hline\n",
       "\t  9             & Ron Harper    \\\\\n",
       "\t 23             & Michael Jordan\\\\\n",
       "\t 33             & Scottie Pippen\\\\\n",
       "\t 91             & Dennis Rodman \\\\\n",
       "\t 13             & Luc Longley   \\\\\n",
       "\\end{tabular}\n"
      ],
      "text/markdown": [
       "\n",
       "number | player | \n",
       "|---|---|---|---|---|\n",
       "|  9             | Ron Harper     | \n",
       "| 23             | Michael Jordan | \n",
       "| 33             | Scottie Pippen | \n",
       "| 91             | Dennis Rodman  | \n",
       "| 13             | Luc Longley    | \n",
       "\n",
       "\n"
      ],
      "text/plain": [
       "  number player        \n",
       "1  9     Ron Harper    \n",
       "2 23     Michael Jordan\n",
       "3 33     Scottie Pippen\n",
       "4 91     Dennis Rodman \n",
       "5 13     Luc Longley   "
      ]
     },
     "metadata": {},
     "output_type": "display_data"
    },
    {
     "name": "stdout",
     "output_type": "stream",
     "text": [
      "'data.frame':\t5 obs. of  2 variables:\n",
      " $ number: num  9 23 33 91 13\n",
      " $ player: chr  \"Ron Harper\" \"Michael Jordan\" \"Scottie Pippen\" \"Dennis Rodman\" ...\n"
     ]
    },
    {
     "data": {
      "text/plain": [
       "     number        player         \n",
       " Min.   : 9.0   Length:5          \n",
       " 1st Qu.:13.0   Class :character  \n",
       " Median :23.0   Mode  :character  \n",
       " Mean   :33.8                     \n",
       " 3rd Qu.:33.0                     \n",
       " Max.   :91.0                     "
      ]
     },
     "metadata": {},
     "output_type": "display_data"
    },
    {
     "data": {
      "text/html": [
       "<ol class=list-inline>\n",
       "\t<li>5</li>\n",
       "\t<li>2</li>\n",
       "</ol>\n"
      ],
      "text/latex": [
       "\\begin{enumerate*}\n",
       "\\item 5\n",
       "\\item 2\n",
       "\\end{enumerate*}\n"
      ],
      "text/markdown": [
       "1. 5\n",
       "2. 2\n",
       "\n",
       "\n"
      ],
      "text/plain": [
       "[1] 5 2"
      ]
     },
     "metadata": {},
     "output_type": "display_data"
    },
    {
     "data": {
      "text/html": [
       "5"
      ],
      "text/latex": [
       "5"
      ],
      "text/markdown": [
       "5"
      ],
      "text/plain": [
       "[1] 5"
      ]
     },
     "metadata": {},
     "output_type": "display_data"
    },
    {
     "data": {
      "text/html": [
       "2"
      ],
      "text/latex": [
       "2"
      ],
      "text/markdown": [
       "2"
      ],
      "text/plain": [
       "[1] 2"
      ]
     },
     "metadata": {},
     "output_type": "display_data"
    },
    {
     "data": {
      "text/html": [
       "<ol class=list-inline>\n",
       "\t<li>'number'</li>\n",
       "\t<li>'player'</li>\n",
       "</ol>\n"
      ],
      "text/latex": [
       "\\begin{enumerate*}\n",
       "\\item 'number'\n",
       "\\item 'player'\n",
       "\\end{enumerate*}\n"
      ],
      "text/markdown": [
       "1. 'number'\n",
       "2. 'player'\n",
       "\n",
       "\n"
      ],
      "text/plain": [
       "[1] \"number\" \"player\""
      ]
     },
     "metadata": {},
     "output_type": "display_data"
    },
    {
     "data": {
      "text/html": [
       "<ol class=list-inline>\n",
       "\t<li>'1'</li>\n",
       "\t<li>'2'</li>\n",
       "\t<li>'3'</li>\n",
       "\t<li>'4'</li>\n",
       "\t<li>'5'</li>\n",
       "\t<li>NA</li>\n",
       "</ol>\n"
      ],
      "text/latex": [
       "\\begin{enumerate*}\n",
       "\\item '1'\n",
       "\\item '2'\n",
       "\\item '3'\n",
       "\\item '4'\n",
       "\\item '5'\n",
       "\\item NA\n",
       "\\end{enumerate*}\n"
      ],
      "text/markdown": [
       "1. '1'\n",
       "2. '2'\n",
       "3. '3'\n",
       "4. '4'\n",
       "5. '5'\n",
       "6. NA\n",
       "\n",
       "\n"
      ],
      "text/plain": [
       "[1] \"1\" \"2\" \"3\" \"4\" \"5\" NA "
      ]
     },
     "metadata": {},
     "output_type": "display_data"
    }
   ],
   "source": [
    "dim(df )\n",
    "head(df)           # 查看前六列觀測值\n",
    "tail(df)           # 查看末六列觀測值\n",
    "str(df)            # 查看資料框的複合資訊\n",
    "summary(df)        # 查看描述性統計\n",
    "dim(df)            # 查看資料框的外觀\n",
    "nrow(df)           # 查看資料框有幾個列\n",
    "ncol(df)           # 查看資料框有幾個欄\n",
    "colnames(df)       # 查看資料框所有的變數名稱\n",
    "row.names(df)[1:6] # 查看資料框的列索引值"
   ]
  },
  {
   "cell_type": "markdown",
   "metadata": {},
   "source": [
    "### [PART 2]. 篩選資料"
   ]
  },
  {
   "cell_type": "markdown",
   "metadata": {},
   "source": [
    "### [方法ㄧ]"
   ]
  },
  {
   "cell_type": "code",
   "execution_count": 3,
   "metadata": {},
   "outputs": [
    {
     "data": {
      "text/html": [
       "<table>\n",
       "<thead><tr><th></th><th scope=col>number</th><th scope=col>player</th></tr></thead>\n",
       "<tbody>\n",
       "\t<tr><th scope=row>2</th><td>23            </td><td>Michael Jordan</td></tr>\n",
       "\t<tr><th scope=row>3</th><td>33            </td><td>Scottie Pippen</td></tr>\n",
       "\t<tr><th scope=row>4</th><td>91            </td><td>Dennis Rodman </td></tr>\n",
       "</tbody>\n",
       "</table>\n"
      ],
      "text/latex": [
       "\\begin{tabular}{r|ll}\n",
       "  & number & player\\\\\n",
       "\\hline\n",
       "\t2 & 23             & Michael Jordan\\\\\n",
       "\t3 & 33             & Scottie Pippen\\\\\n",
       "\t4 & 91             & Dennis Rodman \\\\\n",
       "\\end{tabular}\n"
      ],
      "text/markdown": [
       "\n",
       "| <!--/--> | number | player | \n",
       "|---|---|---|\n",
       "| 2 | 23             | Michael Jordan | \n",
       "| 3 | 33             | Scottie Pippen | \n",
       "| 4 | 91             | Dennis Rodman  | \n",
       "\n",
       "\n"
      ],
      "text/plain": [
       "  number player        \n",
       "2 23     Michael Jordan\n",
       "3 33     Scottie Pippen\n",
       "4 91     Dennis Rodman "
      ]
     },
     "metadata": {},
     "output_type": "display_data"
    },
    {
     "data": {
      "text/html": [
       "<ol class=list-inline>\n",
       "\t<li>FALSE</li>\n",
       "\t<li>TRUE</li>\n",
       "\t<li>TRUE</li>\n",
       "\t<li>TRUE</li>\n",
       "\t<li>FALSE</li>\n",
       "</ol>\n"
      ],
      "text/latex": [
       "\\begin{enumerate*}\n",
       "\\item FALSE\n",
       "\\item TRUE\n",
       "\\item TRUE\n",
       "\\item TRUE\n",
       "\\item FALSE\n",
       "\\end{enumerate*}\n"
      ],
      "text/markdown": [
       "1. FALSE\n",
       "2. TRUE\n",
       "3. TRUE\n",
       "4. TRUE\n",
       "5. FALSE\n",
       "\n",
       "\n"
      ],
      "text/plain": [
       "[1] FALSE  TRUE  TRUE  TRUE FALSE"
      ]
     },
     "metadata": {},
     "output_type": "display_data"
    },
    {
     "data": {
      "text/html": [
       "<table>\n",
       "<thead><tr><th></th><th scope=col>number</th><th scope=col>player</th></tr></thead>\n",
       "<tbody>\n",
       "\t<tr><th scope=row>2</th><td>23            </td><td>Michael Jordan</td></tr>\n",
       "\t<tr><th scope=row>3</th><td>33            </td><td>Scottie Pippen</td></tr>\n",
       "\t<tr><th scope=row>4</th><td>91            </td><td>Dennis Rodman </td></tr>\n",
       "</tbody>\n",
       "</table>\n"
      ],
      "text/latex": [
       "\\begin{tabular}{r|ll}\n",
       "  & number & player\\\\\n",
       "\\hline\n",
       "\t2 & 23             & Michael Jordan\\\\\n",
       "\t3 & 33             & Scottie Pippen\\\\\n",
       "\t4 & 91             & Dennis Rodman \\\\\n",
       "\\end{tabular}\n"
      ],
      "text/markdown": [
       "\n",
       "| <!--/--> | number | player | \n",
       "|---|---|---|\n",
       "| 2 | 23             | Michael Jordan | \n",
       "| 3 | 33             | Scottie Pippen | \n",
       "| 4 | 91             | Dennis Rodman  | \n",
       "\n",
       "\n"
      ],
      "text/plain": [
       "  number player        \n",
       "2 23     Michael Jordan\n",
       "3 33     Scottie Pippen\n",
       "4 91     Dennis Rodman "
      ]
     },
     "metadata": {},
     "output_type": "display_data"
    },
    {
     "data": {
      "text/html": [
       "<ol class=list-inline>\n",
       "\t<li>FALSE</li>\n",
       "\t<li>TRUE</li>\n",
       "\t<li>TRUE</li>\n",
       "\t<li>TRUE</li>\n",
       "\t<li>FALSE</li>\n",
       "</ol>\n"
      ],
      "text/latex": [
       "\\begin{enumerate*}\n",
       "\\item FALSE\n",
       "\\item TRUE\n",
       "\\item TRUE\n",
       "\\item TRUE\n",
       "\\item FALSE\n",
       "\\end{enumerate*}\n"
      ],
      "text/markdown": [
       "1. FALSE\n",
       "2. TRUE\n",
       "3. TRUE\n",
       "4. TRUE\n",
       "5. FALSE\n",
       "\n",
       "\n"
      ],
      "text/plain": [
       "[1] FALSE  TRUE  TRUE  TRUE FALSE"
      ]
     },
     "metadata": {},
     "output_type": "display_data"
    },
    {
     "data": {
      "text/html": [
       "<table>\n",
       "<thead><tr><th></th><th scope=col>number</th><th scope=col>player</th></tr></thead>\n",
       "<tbody>\n",
       "\t<tr><th scope=row>2</th><td>23            </td><td>Michael Jordan</td></tr>\n",
       "\t<tr><th scope=row>3</th><td>33            </td><td>Scottie Pippen</td></tr>\n",
       "\t<tr><th scope=row>4</th><td>91            </td><td>Dennis Rodman </td></tr>\n",
       "</tbody>\n",
       "</table>\n"
      ],
      "text/latex": [
       "\\begin{tabular}{r|ll}\n",
       "  & number & player\\\\\n",
       "\\hline\n",
       "\t2 & 23             & Michael Jordan\\\\\n",
       "\t3 & 33             & Scottie Pippen\\\\\n",
       "\t4 & 91             & Dennis Rodman \\\\\n",
       "\\end{tabular}\n"
      ],
      "text/markdown": [
       "\n",
       "| <!--/--> | number | player | \n",
       "|---|---|---|\n",
       "| 2 | 23             | Michael Jordan | \n",
       "| 3 | 33             | Scottie Pippen | \n",
       "| 4 | 91             | Dennis Rodman  | \n",
       "\n",
       "\n"
      ],
      "text/plain": [
       "  number player        \n",
       "2 23     Michael Jordan\n",
       "3 33     Scottie Pippen\n",
       "4 91     Dennis Rodman "
      ]
     },
     "metadata": {},
     "output_type": "display_data"
    }
   ],
   "source": [
    "df[c(2, 3, 4), ]                                          # 透過位置\n",
    "is_trio <- df$number %in% c(23, 33, 91)                                          # 透過球衣背號\n",
    "is_trio\n",
    "df[is_trio, ]\n",
    "\n",
    "is_trio <- df$player %in% c(\"Michael Jordan\", \"Scottie Pippen\", \"Dennis Rodman\") # 透過球員姓名\n",
    "is_trio\n",
    "df[is_trio, ]\n"
   ]
  },
  {
   "cell_type": "markdown",
   "metadata": {},
   "source": [
    "### [方法二] 使用 dplyr 套件的 filter() 函數\n",
    "- tidyverse 是一個非常龐大的生態系，它有點像是懶人包，將未來可能會用到的套件都囊括進去\n",
    "- 初學者，可以在安裝 tidyverse 之前，先嘗試看看 dplyr 這個 tidyverse 的敲門磚\n"
   ]
  },
  {
   "cell_type": "markdown",
   "metadata": {},
   "source": [
    "[備註]. 在Anaconda中要用 conda install -c r r-dplyr"
   ]
  },
  {
   "cell_type": "code",
   "execution_count": 4,
   "metadata": {},
   "outputs": [
    {
     "name": "stderr",
     "output_type": "stream",
     "text": [
      "\n",
      "Attaching package: ‘dplyr’\n",
      "\n",
      "The following objects are masked from ‘package:stats’:\n",
      "\n",
      "    filter, lag\n",
      "\n",
      "The following objects are masked from ‘package:base’:\n",
      "\n",
      "    intersect, setdiff, setequal, union\n",
      "\n"
     ]
    }
   ],
   "source": [
    "#install.packages(\"tidyverse\")\n",
    "#install.packages(\"dplyr\")\n",
    "#devtools::install_github(\"tidyverse/dplyr\")\n",
    "#install.packages(\"magrittr\")\n",
    "#library(magrittr)\n",
    "library(dplyr)\n",
    "#library(tidyverse)"
   ]
  },
  {
   "cell_type": "code",
   "execution_count": 5,
   "metadata": {},
   "outputs": [
    {
     "data": {
      "text/html": [
       "<table>\n",
       "<thead><tr><th scope=col>number</th><th scope=col>player</th></tr></thead>\n",
       "<tbody>\n",
       "\t<tr><td>23            </td><td>Michael Jordan</td></tr>\n",
       "\t<tr><td>33            </td><td>Scottie Pippen</td></tr>\n",
       "\t<tr><td>91            </td><td>Dennis Rodman </td></tr>\n",
       "</tbody>\n",
       "</table>\n"
      ],
      "text/latex": [
       "\\begin{tabular}{r|ll}\n",
       " number & player\\\\\n",
       "\\hline\n",
       "\t 23             & Michael Jordan\\\\\n",
       "\t 33             & Scottie Pippen\\\\\n",
       "\t 91             & Dennis Rodman \\\\\n",
       "\\end{tabular}\n"
      ],
      "text/markdown": [
       "\n",
       "number | player | \n",
       "|---|---|---|\n",
       "| 23             | Michael Jordan | \n",
       "| 33             | Scottie Pippen | \n",
       "| 91             | Dennis Rodman  | \n",
       "\n",
       "\n"
      ],
      "text/plain": [
       "  number player        \n",
       "1 23     Michael Jordan\n",
       "2 33     Scottie Pippen\n",
       "3 91     Dennis Rodman "
      ]
     },
     "metadata": {},
     "output_type": "display_data"
    }
   ],
   "source": [
    "df %>%  filter(number %in% c(23, 33, 91))  # A %in% B：A 是否在 B 中\n",
    "# filter(player %in% c(\"Michael Jordan\", \"Scottie Pippen\", \"Dennis Rodman\"))\n",
    "\n"
   ]
  },
  {
   "cell_type": "markdown",
   "metadata": {},
   "source": [
    "透過 df$col 或 df[, \"col\"] 選擇單一個變數，這時會轉換為 vector，透過 df[, c(\"col1\", \"col2\")] 則能夠選出資料框中的多個變數，這時型別依然是資料框"
   ]
  },
  {
   "cell_type": "code",
   "execution_count": 6,
   "metadata": {},
   "outputs": [
    {
     "data": {
      "text/html": [
       "<ol class=list-inline>\n",
       "\t<li>'Ron Harper'</li>\n",
       "\t<li>'Michael Jordan'</li>\n",
       "\t<li>'Scottie Pippen'</li>\n",
       "\t<li>'Dennis Rodman'</li>\n",
       "\t<li>'Luc Longley'</li>\n",
       "</ol>\n"
      ],
      "text/latex": [
       "\\begin{enumerate*}\n",
       "\\item 'Ron Harper'\n",
       "\\item 'Michael Jordan'\n",
       "\\item 'Scottie Pippen'\n",
       "\\item 'Dennis Rodman'\n",
       "\\item 'Luc Longley'\n",
       "\\end{enumerate*}\n"
      ],
      "text/markdown": [
       "1. 'Ron Harper'\n",
       "2. 'Michael Jordan'\n",
       "3. 'Scottie Pippen'\n",
       "4. 'Dennis Rodman'\n",
       "5. 'Luc Longley'\n",
       "\n",
       "\n"
      ],
      "text/plain": [
       "[1] \"Ron Harper\"     \"Michael Jordan\" \"Scottie Pippen\" \"Dennis Rodman\" \n",
       "[5] \"Luc Longley\"   "
      ]
     },
     "metadata": {},
     "output_type": "display_data"
    },
    {
     "data": {
      "text/html": [
       "<ol class=list-inline>\n",
       "\t<li>'Ron Harper'</li>\n",
       "\t<li>'Michael Jordan'</li>\n",
       "\t<li>'Scottie Pippen'</li>\n",
       "\t<li>'Dennis Rodman'</li>\n",
       "\t<li>'Luc Longley'</li>\n",
       "</ol>\n"
      ],
      "text/latex": [
       "\\begin{enumerate*}\n",
       "\\item 'Ron Harper'\n",
       "\\item 'Michael Jordan'\n",
       "\\item 'Scottie Pippen'\n",
       "\\item 'Dennis Rodman'\n",
       "\\item 'Luc Longley'\n",
       "\\end{enumerate*}\n"
      ],
      "text/markdown": [
       "1. 'Ron Harper'\n",
       "2. 'Michael Jordan'\n",
       "3. 'Scottie Pippen'\n",
       "4. 'Dennis Rodman'\n",
       "5. 'Luc Longley'\n",
       "\n",
       "\n"
      ],
      "text/plain": [
       "[1] \"Ron Harper\"     \"Michael Jordan\" \"Scottie Pippen\" \"Dennis Rodman\" \n",
       "[5] \"Luc Longley\"   "
      ]
     },
     "metadata": {},
     "output_type": "display_data"
    },
    {
     "data": {
      "text/html": [
       "<table>\n",
       "<thead><tr><th scope=col>player</th><th scope=col>number</th></tr></thead>\n",
       "<tbody>\n",
       "\t<tr><td>Ron Harper    </td><td> 9            </td></tr>\n",
       "\t<tr><td>Michael Jordan</td><td>23            </td></tr>\n",
       "\t<tr><td>Scottie Pippen</td><td>33            </td></tr>\n",
       "\t<tr><td>Dennis Rodman </td><td>91            </td></tr>\n",
       "\t<tr><td>Luc Longley   </td><td>13            </td></tr>\n",
       "</tbody>\n",
       "</table>\n"
      ],
      "text/latex": [
       "\\begin{tabular}{r|ll}\n",
       " player & number\\\\\n",
       "\\hline\n",
       "\t Ron Harper     &  9            \\\\\n",
       "\t Michael Jordan & 23            \\\\\n",
       "\t Scottie Pippen & 33            \\\\\n",
       "\t Dennis Rodman  & 91            \\\\\n",
       "\t Luc Longley    & 13            \\\\\n",
       "\\end{tabular}\n"
      ],
      "text/markdown": [
       "\n",
       "player | number | \n",
       "|---|---|---|---|---|\n",
       "| Ron Harper     |  9             | \n",
       "| Michael Jordan | 23             | \n",
       "| Scottie Pippen | 33             | \n",
       "| Dennis Rodman  | 91             | \n",
       "| Luc Longley    | 13             | \n",
       "\n",
       "\n"
      ],
      "text/plain": [
       "  player         number\n",
       "1 Ron Harper      9    \n",
       "2 Michael Jordan 23    \n",
       "3 Scottie Pippen 33    \n",
       "4 Dennis Rodman  91    \n",
       "5 Luc Longley    13    "
      ]
     },
     "metadata": {},
     "output_type": "display_data"
    }
   ],
   "source": [
    "df$player\n",
    "df[, \"player\"]\n",
    "df[, c(\"player\", \"number\")] #你會發現兩欄對調了"
   ]
  },
  {
   "cell_type": "code",
   "execution_count": 7,
   "metadata": {},
   "outputs": [
    {
     "data": {
      "text/html": [
       "<table>\n",
       "<thead><tr><th scope=col>player</th><th scope=col>number</th></tr></thead>\n",
       "<tbody>\n",
       "\t<tr><td>Ron Harper    </td><td> 9            </td></tr>\n",
       "\t<tr><td>Michael Jordan</td><td>23            </td></tr>\n",
       "\t<tr><td>Scottie Pippen</td><td>33            </td></tr>\n",
       "\t<tr><td>Dennis Rodman </td><td>91            </td></tr>\n",
       "\t<tr><td>Luc Longley   </td><td>13            </td></tr>\n",
       "</tbody>\n",
       "</table>\n"
      ],
      "text/latex": [
       "\\begin{tabular}{r|ll}\n",
       " player & number\\\\\n",
       "\\hline\n",
       "\t Ron Harper     &  9            \\\\\n",
       "\t Michael Jordan & 23            \\\\\n",
       "\t Scottie Pippen & 33            \\\\\n",
       "\t Dennis Rodman  & 91            \\\\\n",
       "\t Luc Longley    & 13            \\\\\n",
       "\\end{tabular}\n"
      ],
      "text/markdown": [
       "\n",
       "player | number | \n",
       "|---|---|---|---|---|\n",
       "| Ron Harper     |  9             | \n",
       "| Michael Jordan | 23             | \n",
       "| Scottie Pippen | 33             | \n",
       "| Dennis Rodman  | 91             | \n",
       "| Luc Longley    | 13             | \n",
       "\n",
       "\n"
      ],
      "text/plain": [
       "  player         number\n",
       "1 Ron Harper      9    \n",
       "2 Michael Jordan 23    \n",
       "3 Scottie Pippen 33    \n",
       "4 Dennis Rodman  91    \n",
       "5 Luc Longley    13    "
      ]
     },
     "metadata": {},
     "output_type": "display_data"
    }
   ],
   "source": [
    "df %>% \n",
    "  select(player, number)"
   ]
  },
  {
   "cell_type": "code",
   "execution_count": 8,
   "metadata": {},
   "outputs": [
    {
     "data": {
      "text/html": [
       "<ol class=list-inline>\n",
       "\t<li>'Ron Harper'</li>\n",
       "\t<li>'Michael Jordan'</li>\n",
       "\t<li>'Scottie Pippen'</li>\n",
       "\t<li>'Dennis Rodman'</li>\n",
       "\t<li>'Luc Longley'</li>\n",
       "</ol>\n"
      ],
      "text/latex": [
       "\\begin{enumerate*}\n",
       "\\item 'Ron Harper'\n",
       "\\item 'Michael Jordan'\n",
       "\\item 'Scottie Pippen'\n",
       "\\item 'Dennis Rodman'\n",
       "\\item 'Luc Longley'\n",
       "\\end{enumerate*}\n"
      ],
      "text/markdown": [
       "1. 'Ron Harper'\n",
       "2. 'Michael Jordan'\n",
       "3. 'Scottie Pippen'\n",
       "4. 'Dennis Rodman'\n",
       "5. 'Luc Longley'\n",
       "\n",
       "\n"
      ],
      "text/plain": [
       "[1] \"Ron Harper\"     \"Michael Jordan\" \"Scottie Pippen\" \"Dennis Rodman\" \n",
       "[5] \"Luc Longley\"   "
      ]
     },
     "metadata": {},
     "output_type": "display_data"
    },
    {
     "data": {
      "text/html": [
       "<table>\n",
       "<thead><tr><th scope=col>player</th><th scope=col>number</th></tr></thead>\n",
       "<tbody>\n",
       "\t<tr><td>Ron Harper    </td><td> 9            </td></tr>\n",
       "\t<tr><td>Michael Jordan</td><td>23            </td></tr>\n",
       "\t<tr><td>Scottie Pippen</td><td>33            </td></tr>\n",
       "\t<tr><td>Dennis Rodman </td><td>91            </td></tr>\n",
       "\t<tr><td>Luc Longley   </td><td>13            </td></tr>\n",
       "</tbody>\n",
       "</table>\n"
      ],
      "text/latex": [
       "\\begin{tabular}{r|ll}\n",
       " player & number\\\\\n",
       "\\hline\n",
       "\t Ron Harper     &  9            \\\\\n",
       "\t Michael Jordan & 23            \\\\\n",
       "\t Scottie Pippen & 33            \\\\\n",
       "\t Dennis Rodman  & 91            \\\\\n",
       "\t Luc Longley    & 13            \\\\\n",
       "\\end{tabular}\n"
      ],
      "text/markdown": [
       "\n",
       "player | number | \n",
       "|---|---|---|---|---|\n",
       "| Ron Harper     |  9             | \n",
       "| Michael Jordan | 23             | \n",
       "| Scottie Pippen | 33             | \n",
       "| Dennis Rodman  | 91             | \n",
       "| Luc Longley    | 13             | \n",
       "\n",
       "\n"
      ],
      "text/plain": [
       "  player         number\n",
       "1 Ron Harper      9    \n",
       "2 Michael Jordan 23    \n",
       "3 Scottie Pippen 33    \n",
       "4 Dennis Rodman  91    \n",
       "5 Luc Longley    13    "
      ]
     },
     "metadata": {},
     "output_type": "display_data"
    }
   ],
   "source": [
    "#依照變數位置選擇\n",
    "\n",
    "df[, 2]\n",
    "df[, c(2, 1)]"
   ]
  },
  {
   "cell_type": "markdown",
   "metadata": {},
   "source": [
    "### [PART 3]. 排序\n",
    "依照某個或多個變數大小排序整個資料框的觀測值是常見的應用，可以遞增排序（由小到大）或者遞減排序（由大到小）"
   ]
  },
  {
   "cell_type": "code",
   "execution_count": 9,
   "metadata": {},
   "outputs": [
    {
     "data": {
      "text/html": [
       "<table>\n",
       "<thead><tr><th scope=col>number</th><th scope=col>player</th></tr></thead>\n",
       "<tbody>\n",
       "\t<tr><td> 9            </td><td>Ron Harper    </td></tr>\n",
       "\t<tr><td>13            </td><td>Luc Longley   </td></tr>\n",
       "\t<tr><td>23            </td><td>Michael Jordan</td></tr>\n",
       "\t<tr><td>33            </td><td>Scottie Pippen</td></tr>\n",
       "\t<tr><td>91            </td><td>Dennis Rodman </td></tr>\n",
       "</tbody>\n",
       "</table>\n"
      ],
      "text/latex": [
       "\\begin{tabular}{r|ll}\n",
       " number & player\\\\\n",
       "\\hline\n",
       "\t  9             & Ron Harper    \\\\\n",
       "\t 13             & Luc Longley   \\\\\n",
       "\t 23             & Michael Jordan\\\\\n",
       "\t 33             & Scottie Pippen\\\\\n",
       "\t 91             & Dennis Rodman \\\\\n",
       "\\end{tabular}\n"
      ],
      "text/markdown": [
       "\n",
       "number | player | \n",
       "|---|---|---|---|---|\n",
       "|  9             | Ron Harper     | \n",
       "| 13             | Luc Longley    | \n",
       "| 23             | Michael Jordan | \n",
       "| 33             | Scottie Pippen | \n",
       "| 91             | Dennis Rodman  | \n",
       "\n",
       "\n"
      ],
      "text/plain": [
       "  number player        \n",
       "1  9     Ron Harper    \n",
       "2 13     Luc Longley   \n",
       "3 23     Michael Jordan\n",
       "4 33     Scottie Pippen\n",
       "5 91     Dennis Rodman "
      ]
     },
     "metadata": {},
     "output_type": "display_data"
    },
    {
     "data": {
      "text/html": [
       "<table>\n",
       "<thead><tr><th scope=col>number</th><th scope=col>player</th></tr></thead>\n",
       "<tbody>\n",
       "\t<tr><td>91            </td><td>Dennis Rodman </td></tr>\n",
       "\t<tr><td>33            </td><td>Scottie Pippen</td></tr>\n",
       "\t<tr><td>23            </td><td>Michael Jordan</td></tr>\n",
       "\t<tr><td>13            </td><td>Luc Longley   </td></tr>\n",
       "\t<tr><td> 9            </td><td>Ron Harper    </td></tr>\n",
       "</tbody>\n",
       "</table>\n"
      ],
      "text/latex": [
       "\\begin{tabular}{r|ll}\n",
       " number & player\\\\\n",
       "\\hline\n",
       "\t 91             & Dennis Rodman \\\\\n",
       "\t 33             & Scottie Pippen\\\\\n",
       "\t 23             & Michael Jordan\\\\\n",
       "\t 13             & Luc Longley   \\\\\n",
       "\t  9             & Ron Harper    \\\\\n",
       "\\end{tabular}\n"
      ],
      "text/markdown": [
       "\n",
       "number | player | \n",
       "|---|---|---|---|---|\n",
       "| 91             | Dennis Rodman  | \n",
       "| 33             | Scottie Pippen | \n",
       "| 23             | Michael Jordan | \n",
       "| 13             | Luc Longley    | \n",
       "|  9             | Ron Harper     | \n",
       "\n",
       "\n"
      ],
      "text/plain": [
       "  number player        \n",
       "1 91     Dennis Rodman \n",
       "2 33     Scottie Pippen\n",
       "3 23     Michael Jordan\n",
       "4 13     Luc Longley   \n",
       "5  9     Ron Harper    "
      ]
     },
     "metadata": {},
     "output_type": "display_data"
    }
   ],
   "source": [
    "df %>% \n",
    "  arrange(number) %>%       # 依照 number遞增排序\n",
    "  head()\n",
    "\n",
    "df %>%\n",
    "  arrange(desc(number)) %>% # 依照 number遞減排序\n",
    "  head()"
   ]
  },
  {
   "cell_type": "markdown",
   "metadata": {},
   "source": [
    "### [進階補充]. apply/ sapply/ lapply 家族\n",
    "此三種是隱函迴圈的做法"
   ]
  },
  {
   "cell_type": "markdown",
   "metadata": {},
   "source": [
    "### **新增變數**\n",
    "- 衍生變數（Derived Variables）是指能夠透過現有變數生成的變數，以 1995 至 1996 年球季芝加哥公牛隊先發陣容的資料框為例，衍生變數可能是球員的姓 last_name，該變數可以從 player 衍生而得\n",
    "- 非衍生變數可能是球員的身高，無法從既有變數中計算而得，新增非衍生變數時通常可以給一個值；或者給長度與列數相同的陣列。"
   ]
  },
  {
   "cell_type": "code",
   "execution_count": 10,
   "metadata": {},
   "outputs": [
    {
     "data": {
      "text/html": [
       "<table>\n",
       "<thead><tr><th scope=col>number</th><th scope=col>player</th><th scope=col>last_name</th></tr></thead>\n",
       "<tbody>\n",
       "\t<tr><td> 9            </td><td>Ron Harper    </td><td>Harper        </td></tr>\n",
       "\t<tr><td>23            </td><td>Michael Jordan</td><td>Jordan        </td></tr>\n",
       "\t<tr><td>33            </td><td>Scottie Pippen</td><td>Pippen        </td></tr>\n",
       "\t<tr><td>91            </td><td>Dennis Rodman </td><td>Rodman        </td></tr>\n",
       "\t<tr><td>13            </td><td>Luc Longley   </td><td>Longley       </td></tr>\n",
       "</tbody>\n",
       "</table>\n"
      ],
      "text/latex": [
       "\\begin{tabular}{r|lll}\n",
       " number & player & last\\_name\\\\\n",
       "\\hline\n",
       "\t  9             & Ron Harper     & Harper        \\\\\n",
       "\t 23             & Michael Jordan & Jordan        \\\\\n",
       "\t 33             & Scottie Pippen & Pippen        \\\\\n",
       "\t 91             & Dennis Rodman  & Rodman        \\\\\n",
       "\t 13             & Luc Longley    & Longley       \\\\\n",
       "\\end{tabular}\n"
      ],
      "text/markdown": [
       "\n",
       "number | player | last_name | \n",
       "|---|---|---|---|---|\n",
       "|  9             | Ron Harper     | Harper         | \n",
       "| 23             | Michael Jordan | Jordan         | \n",
       "| 33             | Scottie Pippen | Pippen         | \n",
       "| 91             | Dennis Rodman  | Rodman         | \n",
       "| 13             | Luc Longley    | Longley        | \n",
       "\n",
       "\n"
      ],
      "text/plain": [
       "  number player         last_name\n",
       "1  9     Ron Harper     Harper   \n",
       "2 23     Michael Jordan Jordan   \n",
       "3 33     Scottie Pippen Pippen   \n",
       "4 91     Dennis Rodman  Rodman   \n",
       "5 13     Luc Longley    Longley  "
      ]
     },
     "metadata": {},
     "output_type": "display_data"
    }
   ],
   "source": [
    "# R 語言中可以透過 sapply() 函數實踐向量計算，將完成計算的向量直接指派回資料框中即可。\n",
    "# 使用互動式操作來使用 R 的狀況來說，使用 sapply 函數會比較方便，就算使用者不確定執行結果會是什麼，它通常都可以自動將結果以最適合的方式呈現。\n",
    "\n",
    "get_last_name <- function(x) {\n",
    "  split_lst <- strsplit(x, split = \" \")\n",
    "  name_length <- length(split_lst[[1]])\n",
    "  last_name <- split_lst[[1]][name_length]\n",
    "  return(last_name)\n",
    "}\n",
    "df$last_name <- sapply(df$player, FUN = get_last_name)\n",
    "#View(df)\n",
    "\n",
    "df"
   ]
  },
  {
   "cell_type": "code",
   "execution_count": 11,
   "metadata": {},
   "outputs": [
    {
     "data": {
      "text/html": [
       "<table>\n",
       "<thead><tr><th scope=col>number</th><th scope=col>player</th><th scope=col>last_name</th><th scope=col>team</th><th scope=col>height</th></tr></thead>\n",
       "<tbody>\n",
       "\t<tr><td> 9            </td><td>Ron Harper    </td><td>Harper        </td><td>Chicago Bulls </td><td>6-6           </td></tr>\n",
       "\t<tr><td>23            </td><td>Michael Jordan</td><td>Jordan        </td><td>Chicago Bulls </td><td>6-6           </td></tr>\n",
       "\t<tr><td>33            </td><td>Scottie Pippen</td><td>Pippen        </td><td>Chicago Bulls </td><td>6-8           </td></tr>\n",
       "\t<tr><td>91            </td><td>Dennis Rodman </td><td>Rodman        </td><td>Chicago Bulls </td><td>6-7           </td></tr>\n",
       "\t<tr><td>13            </td><td>Luc Longley   </td><td>Longley       </td><td>Chicago Bulls </td><td>7-2           </td></tr>\n",
       "</tbody>\n",
       "</table>\n"
      ],
      "text/latex": [
       "\\begin{tabular}{r|lllll}\n",
       " number & player & last\\_name & team & height\\\\\n",
       "\\hline\n",
       "\t  9             & Ron Harper     & Harper         & Chicago Bulls  & 6-6           \\\\\n",
       "\t 23             & Michael Jordan & Jordan         & Chicago Bulls  & 6-6           \\\\\n",
       "\t 33             & Scottie Pippen & Pippen         & Chicago Bulls  & 6-8           \\\\\n",
       "\t 91             & Dennis Rodman  & Rodman         & Chicago Bulls  & 6-7           \\\\\n",
       "\t 13             & Luc Longley    & Longley        & Chicago Bulls  & 7-2           \\\\\n",
       "\\end{tabular}\n"
      ],
      "text/markdown": [
       "\n",
       "number | player | last_name | team | height | \n",
       "|---|---|---|---|---|\n",
       "|  9             | Ron Harper     | Harper         | Chicago Bulls  | 6-6            | \n",
       "| 23             | Michael Jordan | Jordan         | Chicago Bulls  | 6-6            | \n",
       "| 33             | Scottie Pippen | Pippen         | Chicago Bulls  | 6-8            | \n",
       "| 91             | Dennis Rodman  | Rodman         | Chicago Bulls  | 6-7            | \n",
       "| 13             | Luc Longley    | Longley        | Chicago Bulls  | 7-2            | \n",
       "\n",
       "\n"
      ],
      "text/plain": [
       "  number player         last_name team          height\n",
       "1  9     Ron Harper     Harper    Chicago Bulls 6-6   \n",
       "2 23     Michael Jordan Jordan    Chicago Bulls 6-6   \n",
       "3 33     Scottie Pippen Pippen    Chicago Bulls 6-8   \n",
       "4 91     Dennis Rodman  Rodman    Chicago Bulls 6-7   \n",
       "5 13     Luc Longley    Longley   Chicago Bulls 7-2   "
      ]
     },
     "metadata": {},
     "output_type": "display_data"
    }
   ],
   "source": [
    "#輸入一個值：隊伍名稱 \"Chicago Bulls\" ，或者輸入五個球員的身高：\n",
    "df$team <- \"Chicago Bulls\"\n",
    "df$height <- c(\"6-6\", \"6-6\", \"6-8\", \"6-7\", \"7-2\")\n",
    "df"
   ]
  },
  {
   "cell_type": "code",
   "execution_count": 12,
   "metadata": {},
   "outputs": [
    {
     "data": {
      "text/html": [
       "<table>\n",
       "<thead><tr><th scope=col>number</th><th scope=col>player</th><th scope=col>last_name</th><th scope=col>team</th><th scope=col>height</th></tr></thead>\n",
       "<tbody>\n",
       "\t<tr><td> 9            </td><td>Ron Harper    </td><td>Harper        </td><td>Chicago Bulls </td><td>6-6           </td></tr>\n",
       "\t<tr><td>23            </td><td>Michael Jordan</td><td>Jordan        </td><td>Chicago Bulls </td><td>6-6           </td></tr>\n",
       "\t<tr><td>33            </td><td>Scottie Pippen</td><td>Pippen        </td><td>Chicago Bulls </td><td>6-8           </td></tr>\n",
       "\t<tr><td>91            </td><td>Dennis Rodman </td><td>Rodman        </td><td>Chicago Bulls </td><td>6-7           </td></tr>\n",
       "\t<tr><td>13            </td><td>Luc Longley   </td><td>Longley       </td><td>Chicago Bulls </td><td>7-2           </td></tr>\n",
       "</tbody>\n",
       "</table>\n"
      ],
      "text/latex": [
       "\\begin{tabular}{r|lllll}\n",
       " number & player & last\\_name & team & height\\\\\n",
       "\\hline\n",
       "\t  9             & Ron Harper     & Harper         & Chicago Bulls  & 6-6           \\\\\n",
       "\t 23             & Michael Jordan & Jordan         & Chicago Bulls  & 6-6           \\\\\n",
       "\t 33             & Scottie Pippen & Pippen         & Chicago Bulls  & 6-8           \\\\\n",
       "\t 91             & Dennis Rodman  & Rodman         & Chicago Bulls  & 6-7           \\\\\n",
       "\t 13             & Luc Longley    & Longley        & Chicago Bulls  & 7-2           \\\\\n",
       "\\end{tabular}\n"
      ],
      "text/markdown": [
       "\n",
       "number | player | last_name | team | height | \n",
       "|---|---|---|---|---|\n",
       "|  9             | Ron Harper     | Harper         | Chicago Bulls  | 6-6            | \n",
       "| 23             | Michael Jordan | Jordan         | Chicago Bulls  | 6-6            | \n",
       "| 33             | Scottie Pippen | Pippen         | Chicago Bulls  | 6-8            | \n",
       "| 91             | Dennis Rodman  | Rodman         | Chicago Bulls  | 6-7            | \n",
       "| 13             | Luc Longley    | Longley        | Chicago Bulls  | 7-2            | \n",
       "\n",
       "\n"
      ],
      "text/plain": [
       "  number player         last_name team          height\n",
       "1  9     Ron Harper     Harper    Chicago Bulls 6-6   \n",
       "2 23     Michael Jordan Jordan    Chicago Bulls 6-6   \n",
       "3 33     Scottie Pippen Pippen    Chicago Bulls 6-8   \n",
       "4 91     Dennis Rodman  Rodman    Chicago Bulls 6-7   \n",
       "5 13     Luc Longley    Longley   Chicago Bulls 7-2   "
      ]
     },
     "metadata": {},
     "output_type": "display_data"
    }
   ],
   "source": [
    "#或是採用 dplyr 套件的 mutate() 函數\n",
    "\n",
    "df1 <- df %>% \n",
    "  mutate(\n",
    "    team = \"Chicago Bulls\",\n",
    "    height = c(\"6-6\", \"6-6\", \"6-8\", \"6-7\", \"7-2\")\n",
    "  )\n",
    "\n",
    "df1"
   ]
  },
  {
   "cell_type": "markdown",
   "metadata": {},
   "source": [
    "### [PART 4].垂直合併資料框"
   ]
  },
  {
   "cell_type": "code",
   "execution_count": 13,
   "metadata": {},
   "outputs": [
    {
     "name": "stderr",
     "output_type": "stream",
     "text": [
      "\n",
      "Attaching package: ‘MASS’\n",
      "\n",
      "The following object is masked from ‘package:dplyr’:\n",
      "\n",
      "    select\n",
      "\n"
     ]
    }
   ],
   "source": [
    "library(MASS)"
   ]
  },
  {
   "cell_type": "code",
   "execution_count": 14,
   "metadata": {},
   "outputs": [
    {
     "data": {
      "text/html": [
       "<table>\n",
       "<thead><tr><th scope=col>number</th><th scope=col>player</th><th scope=col>last_name</th><th scope=col>team</th><th scope=col>height</th></tr></thead>\n",
       "<tbody>\n",
       "\t<tr><td> 9            </td><td>Ron Harper    </td><td>Harper        </td><td>Chicago Bulls </td><td>6-6           </td></tr>\n",
       "\t<tr><td>23            </td><td>Michael Jordan</td><td>Jordan        </td><td>Chicago Bulls </td><td>6-6           </td></tr>\n",
       "\t<tr><td>33            </td><td>Scottie Pippen</td><td>Pippen        </td><td>Chicago Bulls </td><td>6-8           </td></tr>\n",
       "\t<tr><td>91            </td><td>Dennis Rodman </td><td>Rodman        </td><td>Chicago Bulls </td><td>6-7           </td></tr>\n",
       "\t<tr><td>13            </td><td>Luc Longley   </td><td>Longley       </td><td>Chicago Bulls </td><td>7-2           </td></tr>\n",
       "\t<tr><td> 7            </td><td>Toni Kukoc    </td><td>Kukoc         </td><td>Chicago Bulls </td><td>6-11          </td></tr>\n",
       "</tbody>\n",
       "</table>\n"
      ],
      "text/latex": [
       "\\begin{tabular}{r|lllll}\n",
       " number & player & last\\_name & team & height\\\\\n",
       "\\hline\n",
       "\t  9             & Ron Harper     & Harper         & Chicago Bulls  & 6-6           \\\\\n",
       "\t 23             & Michael Jordan & Jordan         & Chicago Bulls  & 6-6           \\\\\n",
       "\t 33             & Scottie Pippen & Pippen         & Chicago Bulls  & 6-8           \\\\\n",
       "\t 91             & Dennis Rodman  & Rodman         & Chicago Bulls  & 6-7           \\\\\n",
       "\t 13             & Luc Longley    & Longley        & Chicago Bulls  & 7-2           \\\\\n",
       "\t  7             & Toni Kukoc     & Kukoc          & Chicago Bulls  & 6-11          \\\\\n",
       "\\end{tabular}\n"
      ],
      "text/markdown": [
       "\n",
       "number | player | last_name | team | height | \n",
       "|---|---|---|---|---|---|\n",
       "|  9             | Ron Harper     | Harper         | Chicago Bulls  | 6-6            | \n",
       "| 23             | Michael Jordan | Jordan         | Chicago Bulls  | 6-6            | \n",
       "| 33             | Scottie Pippen | Pippen         | Chicago Bulls  | 6-8            | \n",
       "| 91             | Dennis Rodman  | Rodman         | Chicago Bulls  | 6-7            | \n",
       "| 13             | Luc Longley    | Longley        | Chicago Bulls  | 7-2            | \n",
       "|  7             | Toni Kukoc     | Kukoc          | Chicago Bulls  | 6-11           | \n",
       "\n",
       "\n"
      ],
      "text/plain": [
       "  number player         last_name team          height\n",
       "1  9     Ron Harper     Harper    Chicago Bulls 6-6   \n",
       "2 23     Michael Jordan Jordan    Chicago Bulls 6-6   \n",
       "3 33     Scottie Pippen Pippen    Chicago Bulls 6-8   \n",
       "4 91     Dennis Rodman  Rodman    Chicago Bulls 6-7   \n",
       "5 13     Luc Longley    Longley   Chicago Bulls 7-2   \n",
       "6  7     Toni Kukoc     Kukoc     Chicago Bulls 6-11  "
      ]
     },
     "metadata": {},
     "output_type": "display_data"
    }
   ],
   "source": [
    "toni_kukoc <- data.frame(number = 7, player = \"Toni Kukoc\",  last_name=\"Kukoc\", team=\"Chicago Bulls\", height=\"6-11\", stringsAsFactors = FALSE)\n",
    "df2 <- rbind (df, toni_kukoc)\n",
    "df2"
   ]
  },
  {
   "cell_type": "markdown",
   "metadata": {},
   "source": [
    "參考資料 \n",
    "https://medium.com/datainpoint/%E5%A6%82%E4%BD%95%E6%8E%8C%E6%8E%A7%E8%B3%87%E6%96%99-%E8%B3%87%E6%96%99%E6%A1%86%E7%9A%84%E6%93%8D%E4%BD%9C%E6%8A%80%E5%B7%A7-%E4%B8%8A-a85a85b7073c?sk=5dfd24e7d649025779ebebbe53ed75f8"
   ]
  }
 ],
 "metadata": {
  "kernelspec": {
   "display_name": "R",
   "language": "R",
   "name": "ir"
  },
  "language_info": {
   "codemirror_mode": "r",
   "file_extension": ".r",
   "mimetype": "text/x-r-source",
   "name": "R",
   "pygments_lexer": "r",
   "version": "3.4.3"
  }
 },
 "nbformat": 4,
 "nbformat_minor": 2
}
