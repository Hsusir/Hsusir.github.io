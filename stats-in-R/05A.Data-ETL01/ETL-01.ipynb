{
 "cells": [
  {
   "cell_type": "markdown",
   "metadata": {},
   "source": [
    "# R的常見資料處理方法\n",
    "\n",
    "## 許sir\n",
    "\n"
   ]
  },
  {
   "cell_type": "markdown",
   "metadata": {},
   "source": [
    "- 決大多數我們在資料分析的過程中都比較常用 Data-Frame (資料框架）\n",
    "- 因此本小節將介紹在 data-frame中的資料清理與處理方式"
   ]
  },
  {
   "cell_type": "markdown",
   "metadata": {},
   "source": [
    "### [基本資料設定]"
   ]
  },
  {
   "cell_type": "markdown",
   "metadata": {},
   "source": [
    "- 本文的案例中，賭場的投資者希望利用這些資料（以及各種補充資料）來調整盈利策略。換句話說，什麼能讓老虎機賺更多錢？是機器的主題還是型別？新機器比舊機器或老式機器更有利可圖嗎？機器的位置會產生怎樣的影響？低面額的機器會賺更多錢嗎？\n",
    "\n",
    "- 包括的資料如\n",
    "    - 老虎機的位置、錢的面額、月份、日、年、機器型別、機器的年齡、促銷、優惠券、天氣和投幣量（投幣量是放入機器的錢幣總額減去支付的數額）"
   ]
  },
  {
   "cell_type": "code",
   "execution_count": 14,
   "metadata": {},
   "outputs": [
    {
     "data": {
      "text/html": [
       "<table>\n",
       "<thead><tr><th scope=col>Location</th><th scope=col>Denomination</th><th scope=col>Month</th><th scope=col>Weekday</th><th scope=col>Type</th><th scope=col>Theme</th><th scope=col>Age</th><th scope=col>Promotion</th><th scope=col>Coupons</th><th scope=col>Weather</th><th scope=col>Coin.in</th></tr></thead>\n",
       "<tbody>\n",
       "\t<tr><td>1st Floor - Front</td><td>Penny            </td><td>Feb              </td><td>Sunday           </td><td>5 Reel           </td><td>Love             </td><td>18               </td><td>New Player       </td><td>None             </td><td>stormy           </td><td>9999             </td></tr>\n",
       "\t<tr><td>1st Floor - Front</td><td>Penny            </td><td>Mar              </td><td>Tuesday          </td><td>Progressive      </td><td>Entertainment    </td><td> 6               </td><td>Daily Special    </td><td>None             </td><td>balmy            </td><td>1505             </td></tr>\n",
       "\t<tr><td>1st Floor - Front</td><td>Penny            </td><td>Mar              </td><td>Sunday           </td><td>5 Reel           </td><td>American         </td><td> 3               </td><td>Daily Special    </td><td>None             </td><td>wet              </td><td> 673             </td></tr>\n",
       "\t<tr><td>1st Floor - Front</td><td>Penny            </td><td>Apr              </td><td>Tuesday          </td><td>4 Reel           </td><td>History          </td><td>11               </td><td>VIP              </td><td>None             </td><td>steamy           </td><td> 872             </td></tr>\n",
       "\t<tr><td>1st Floor - Front</td><td>Penny            </td><td>Apr              </td><td>Friday           </td><td>Progressive      </td><td>Holidays         </td><td>19               </td><td>VIP              </td><td>None             </td><td>frosty           </td><td>7900             </td></tr>\n",
       "\t<tr><td>1st Floor - Front</td><td>Penny            </td><td>Apr              </td><td>Sunday           </td><td>Progressive      </td><td>Travel           </td><td>10               </td><td>Monthy Player    </td><td>None             </td><td>balmy            </td><td> 671             </td></tr>\n",
       "</tbody>\n",
       "</table>\n"
      ],
      "text/latex": [
       "\\begin{tabular}{r|lllllllllll}\n",
       " Location & Denomination & Month & Weekday & Type & Theme & Age & Promotion & Coupons & Weather & Coin.in\\\\\n",
       "\\hline\n",
       "\t 1st Floor - Front & Penny             & Feb               & Sunday            & 5 Reel            & Love              & 18                & New Player        & None              & stormy            & 9999             \\\\\n",
       "\t 1st Floor - Front & Penny             & Mar               & Tuesday           & Progressive       & Entertainment     &  6                & Daily Special     & None              & balmy             & 1505             \\\\\n",
       "\t 1st Floor - Front & Penny             & Mar               & Sunday            & 5 Reel            & American          &  3                & Daily Special     & None              & wet               &  673             \\\\\n",
       "\t 1st Floor - Front & Penny             & Apr               & Tuesday           & 4 Reel            & History           & 11                & VIP               & None              & steamy            &  872             \\\\\n",
       "\t 1st Floor - Front & Penny             & Apr               & Friday            & Progressive       & Holidays          & 19                & VIP               & None              & frosty            & 7900             \\\\\n",
       "\t 1st Floor - Front & Penny             & Apr               & Sunday            & Progressive       & Travel            & 10                & Monthy Player     & None              & balmy             &  671             \\\\\n",
       "\\end{tabular}\n"
      ],
      "text/markdown": [
       "\n",
       "Location | Denomination | Month | Weekday | Type | Theme | Age | Promotion | Coupons | Weather | Coin.in | \n",
       "|---|---|---|---|---|---|\n",
       "| 1st Floor - Front | Penny             | Feb               | Sunday            | 5 Reel            | Love              | 18                | New Player        | None              | stormy            | 9999              | \n",
       "| 1st Floor - Front | Penny             | Mar               | Tuesday           | Progressive       | Entertainment     |  6                | Daily Special     | None              | balmy             | 1505              | \n",
       "| 1st Floor - Front | Penny             | Mar               | Sunday            | 5 Reel            | American          |  3                | Daily Special     | None              | wet               |  673              | \n",
       "| 1st Floor - Front | Penny             | Apr               | Tuesday           | 4 Reel            | History           | 11                | VIP               | None              | steamy            |  872              | \n",
       "| 1st Floor - Front | Penny             | Apr               | Friday            | Progressive       | Holidays          | 19                | VIP               | None              | frosty            | 7900              | \n",
       "| 1st Floor - Front | Penny             | Apr               | Sunday            | Progressive       | Travel            | 10                | Monthy Player     | None              | balmy             |  671              | \n",
       "\n",
       "\n"
      ],
      "text/plain": [
       "  Location          Denomination Month Weekday Type        Theme         Age\n",
       "1 1st Floor - Front Penny        Feb   Sunday  5 Reel      Love          18 \n",
       "2 1st Floor - Front Penny        Mar   Tuesday Progressive Entertainment  6 \n",
       "3 1st Floor - Front Penny        Mar   Sunday  5 Reel      American       3 \n",
       "4 1st Floor - Front Penny        Apr   Tuesday 4 Reel      History       11 \n",
       "5 1st Floor - Front Penny        Apr   Friday  Progressive Holidays      19 \n",
       "6 1st Floor - Front Penny        Apr   Sunday  Progressive Travel        10 \n",
       "  Promotion     Coupons Weather Coin.in\n",
       "1 New Player    None    stormy  9999   \n",
       "2 Daily Special None    balmy   1505   \n",
       "3 Daily Special None    wet      673   \n",
       "4 VIP           None    steamy   872   \n",
       "5 VIP           None    frosty  7900   \n",
       "6 Monthy Player None    balmy    671   "
      ]
     },
     "metadata": {},
     "output_type": "display_data"
    }
   ],
   "source": [
    "MyData<- read.csv (\"SlotsResults.csv\", header=TRUE, sep=\",\")\n",
    "head(MyData)\n"
   ]
  },
  {
   "cell_type": "markdown",
   "metadata": {},
   "source": [
    "資料來源 James D.Miller撰寫的《資料科學統計學》（Statistics for Data Science）一書，該書由Packt Publishing出版。"
   ]
  },
  {
   "cell_type": "code",
   "execution_count": 18,
   "metadata": {},
   "outputs": [
    {
     "data": {
      "image/png": "[encoded data removed]",
      "text/plain": [
       "Plot with title “GammingData Review”"
      ]
     },
     "metadata": {},
     "output_type": "display_data"
    }
   ],
   "source": [
    "boxplot(MyData[11], main='GammingData Review', ylab = \"Coin-in\") #R畫出檔案中每個老虎機的Coin-in值\n",
    "\n",
    "#Coin-in是檔案中的第11列，所以直接將它作為boxplot函式的引數"
   ]
  },
  {
   "cell_type": "markdown",
   "metadata": {},
   "source": [
    "### [PART 1]: Data Cleaning"
   ]
  },
  {
   "cell_type": "markdown",
   "metadata": {},
   "source": [
    "### 1-1. 離群值處理\n",
    "\n",
    "由上圖, 資料中確實存在離群點，我們要解決這些點以保證它們不會對本研究產生負面影響。首先，我們知道Coin-in有負值是不合理的，因為機器輸出的錢幣一定不會比投入到機器中的硬幣多。基於這個原則，我們可以從檔案中刪除Coin-in為負值的記錄。此外，R可以幫助我們用subset生成一個新的資料框，新資料集中只有Coin-in中的非負值。"
   ]
  },
  {
   "cell_type": "code",
   "execution_count": 21,
   "metadata": {},
   "outputs": [
    {
     "data": {
      "image/png": "[encoded data removed]",
      "text/plain": [
       "Plot with title “ammingData Review”"
      ]
     },
     "metadata": {},
     "output_type": "display_data"
    }
   ],
   "source": [
    "noNegs<- subset(MyData, MyData[11]>0)  # 用subset生成一個新的資料框，新資料集中只有Coin-in中的非負值\n",
    "\n",
    "boxplot(noNegs[11],main='ammingData Review', ylab = \"Coin-in\")"
   ]
  },
  {
   "cell_type": "code",
   "execution_count": 24,
   "metadata": {},
   "outputs": [
    {
     "data": {
      "image/png": "[encoded data removed]",
      "text/plain": [
       "Plot with title “GammingData Review”"
      ]
     },
     "metadata": {},
     "output_type": "display_data"
    }
   ],
   "source": [
    "noOutliers<-subset(noNegs, noNegs[11]<1500)  #去除Coin-in中極端的正值（大於1500美元）得到另一個資料子集\n",
    "boxplot(noOutliers[11], main='GammingData Review', ylab = \"Coin-in\")"
   ]
  },
  {
   "cell_type": "markdown",
   "metadata": {},
   "source": [
    "### 1-2. 轉換單位\n",
    "\n",
    "- 檔案來源：英國\n",
    "- 使用貨幣：英鎊"
   ]
  },
  {
   "cell_type": "code",
   "execution_count": 27,
   "metadata": {},
   "outputs": [
    {
     "data": {
      "text/html": [
       "<table>\n",
       "<thead><tr><th scope=col>Location</th><th scope=col>Denomination</th><th scope=col>Month</th><th scope=col>Weekday</th><th scope=col>Type</th><th scope=col>Theme</th><th scope=col>Age</th><th scope=col>Promotion</th><th scope=col>Coupons</th><th scope=col>Weather</th><th scope=col>Coin.in</th></tr></thead>\n",
       "<tbody>\n",
       "\t<tr><td>1st Floor - Front</td><td>Penny            </td><td>Feb              </td><td>Sunday           </td><td>5 Reel           </td><td>Love             </td><td>18               </td><td>New Player       </td><td>None             </td><td>stormy           </td><td>19598.04         </td></tr>\n",
       "\t<tr><td>1st Floor - Front</td><td>Penny            </td><td>Mar              </td><td>Tuesday          </td><td>Progressive      </td><td>Entertainment    </td><td> 6               </td><td>Daily Special    </td><td>None             </td><td>balmy            </td><td> 2949.80         </td></tr>\n",
       "\t<tr><td>1st Floor - Front</td><td>Penny            </td><td>Mar              </td><td>Sunday           </td><td>5 Reel           </td><td>American         </td><td> 3               </td><td>Daily Special    </td><td>None             </td><td>wet              </td><td> 1319.08         </td></tr>\n",
       "\t<tr><td>1st Floor - Front</td><td>Penny            </td><td>Apr              </td><td>Tuesday          </td><td>4 Reel           </td><td>History          </td><td>11               </td><td>VIP              </td><td>None             </td><td>steamy           </td><td> 1709.12         </td></tr>\n",
       "\t<tr><td>1st Floor - Front</td><td>Penny            </td><td>Apr              </td><td>Friday           </td><td>Progressive      </td><td>Holidays         </td><td>19               </td><td>VIP              </td><td>None             </td><td>frosty           </td><td>15484.00         </td></tr>\n",
       "\t<tr><td>1st Floor - Front</td><td>Penny            </td><td>Apr              </td><td>Sunday           </td><td>Progressive      </td><td>Travel           </td><td>10               </td><td>Monthy Player    </td><td>None             </td><td>balmy            </td><td> 1315.16         </td></tr>\n",
       "</tbody>\n",
       "</table>\n"
      ],
      "text/latex": [
       "\\begin{tabular}{r|lllllllllll}\n",
       " Location & Denomination & Month & Weekday & Type & Theme & Age & Promotion & Coupons & Weather & Coin.in\\\\\n",
       "\\hline\n",
       "\t 1st Floor - Front & Penny             & Feb               & Sunday            & 5 Reel            & Love              & 18                & New Player        & None              & stormy            & 19598.04         \\\\\n",
       "\t 1st Floor - Front & Penny             & Mar               & Tuesday           & Progressive       & Entertainment     &  6                & Daily Special     & None              & balmy             &  2949.80         \\\\\n",
       "\t 1st Floor - Front & Penny             & Mar               & Sunday            & 5 Reel            & American          &  3                & Daily Special     & None              & wet               &  1319.08         \\\\\n",
       "\t 1st Floor - Front & Penny             & Apr               & Tuesday           & 4 Reel            & History           & 11                & VIP               & None              & steamy            &  1709.12         \\\\\n",
       "\t 1st Floor - Front & Penny             & Apr               & Friday            & Progressive       & Holidays          & 19                & VIP               & None              & frosty            & 15484.00         \\\\\n",
       "\t 1st Floor - Front & Penny             & Apr               & Sunday            & Progressive       & Travel            & 10                & Monthy Player     & None              & balmy             &  1315.16         \\\\\n",
       "\\end{tabular}\n"
      ],
      "text/markdown": [
       "\n",
       "Location | Denomination | Month | Weekday | Type | Theme | Age | Promotion | Coupons | Weather | Coin.in | \n",
       "|---|---|---|---|---|---|\n",
       "| 1st Floor - Front | Penny             | Feb               | Sunday            | 5 Reel            | Love              | 18                | New Player        | None              | stormy            | 19598.04          | \n",
       "| 1st Floor - Front | Penny             | Mar               | Tuesday           | Progressive       | Entertainment     |  6                | Daily Special     | None              | balmy             |  2949.80          | \n",
       "| 1st Floor - Front | Penny             | Mar               | Sunday            | 5 Reel            | American          |  3                | Daily Special     | None              | wet               |  1319.08          | \n",
       "| 1st Floor - Front | Penny             | Apr               | Tuesday           | 4 Reel            | History           | 11                | VIP               | None              | steamy            |  1709.12          | \n",
       "| 1st Floor - Front | Penny             | Apr               | Friday            | Progressive       | Holidays          | 19                | VIP               | None              | frosty            | 15484.00          | \n",
       "| 1st Floor - Front | Penny             | Apr               | Sunday            | Progressive       | Travel            | 10                | Monthy Player     | None              | balmy             |  1315.16          | \n",
       "\n",
       "\n"
      ],
      "text/plain": [
       "  Location          Denomination Month Weekday Type        Theme         Age\n",
       "1 1st Floor - Front Penny        Feb   Sunday  5 Reel      Love          18 \n",
       "2 1st Floor - Front Penny        Mar   Tuesday Progressive Entertainment  6 \n",
       "3 1st Floor - Front Penny        Mar   Sunday  5 Reel      American       3 \n",
       "4 1st Floor - Front Penny        Apr   Tuesday 4 Reel      History       11 \n",
       "5 1st Floor - Front Penny        Apr   Friday  Progressive Holidays      19 \n",
       "6 1st Floor - Front Penny        Apr   Sunday  Progressive Travel        10 \n",
       "  Promotion     Coupons Weather Coin.in \n",
       "1 New Player    None    stormy  19598.04\n",
       "2 Daily Special None    balmy    2949.80\n",
       "3 Daily Special None    wet      1319.08\n",
       "4 VIP           None    steamy   1709.12\n",
       "5 VIP           None    frosty  15484.00\n",
       "6 Monthy Player None    balmy    1315.16"
      ]
     },
     "metadata": {},
     "output_type": "display_data"
    }
   ],
   "source": [
    "MyData$Coin.in<- MyData$Coin.in* 1.4 #只要用數額乘以匯率即可\n",
    "head(MyData)"
   ]
  },
  {
   "cell_type": "markdown",
   "metadata": {
    "collapsed": true
   },
   "source": [
    "\n"
   ]
  }
 ],
 "metadata": {
  "kernelspec": {
   "display_name": "R",
   "language": "R",
   "name": "ir"
  },
  "language_info": {
   "codemirror_mode": "r",
   "file_extension": ".r",
   "mimetype": "text/x-r-source",
   "name": "R",
   "pygments_lexer": "r",
   "version": "3.4.3"
  }
 },
 "nbformat": 4,
 "nbformat_minor": 2
}
